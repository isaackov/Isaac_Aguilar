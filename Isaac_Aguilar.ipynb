{
 "cells": [
  {
   "cell_type": "markdown",
   "id": "af5d065c-13eb-46b2-af06-abfac29617cc",
   "metadata": {},
   "source": [
    "# My Jupyter Notebook on IBM Watson Studio"
   ]
  },
  {
   "cell_type": "markdown",
   "id": "7e7b4600-2e0e-4a88-8172-eff4dd2a3e2c",
   "metadata": {},
   "source": [
    "**Isaac Aguilar**  \n",
    "I want to improve my technical data analyst abilities"
   ]
  },
  {
   "cell_type": "markdown",
   "id": "56119827-34d8-4e29-a04c-dd1693ad5bc8",
   "metadata": {},
   "source": [
    "*I am interested in data science because I want to be able to perform more analytic reports based on data from Network*"
   ]
  },
  {
   "cell_type": "markdown",
   "id": "eecffa86-252e-4788-9250-4c1070195e31",
   "metadata": {},
   "source": [
    "### This code says \"Hello\" ###"
   ]
  },
  {
   "cell_type": "code",
   "execution_count": 3,
   "id": "21d3438d-9edd-49b8-8a06-76e83fc56de5",
   "metadata": {},
   "outputs": [
    {
     "name": "stdout",
     "output_type": "stream",
     "text": [
      "Hello\n"
     ]
    }
   ],
   "source": [
    "print (\"Hello\")"
   ]
  },
  {
   "cell_type": "markdown",
   "id": "b7857f7b-7c2c-4b02-9924-0353b9219746",
   "metadata": {},
   "source": [
    "1. This is a numbered list (element 1)\n",
    "2. This is a numbered list (element 2)\n",
    "\n",
    "* this is a bulleted list (Element 1)\n",
    "* This is a bulleted List (Element 2)\n",
    "\n",
    "[The CHEAT SHEET Page](https://github.com/adam-p/markdown-here/wiki/Markdown-Cheatsheet)"
   ]
  },
  {
   "cell_type": "code",
   "execution_count": null,
   "id": "b2420a7c-0af2-4fd9-91c2-88c2c1a39a62",
   "metadata": {},
   "outputs": [],
   "source": []
  }
 ],
 "metadata": {
  "kernelspec": {
   "display_name": "Python",
   "language": "python",
   "name": "conda-env-python-py"
  },
  "language_info": {
   "codemirror_mode": {
    "name": "ipython",
    "version": 3
   },
   "file_extension": ".py",
   "mimetype": "text/x-python",
   "name": "python",
   "nbconvert_exporter": "python",
   "pygments_lexer": "ipython3",
   "version": "3.7.12"
  }
 },
 "nbformat": 4,
 "nbformat_minor": 5
}
